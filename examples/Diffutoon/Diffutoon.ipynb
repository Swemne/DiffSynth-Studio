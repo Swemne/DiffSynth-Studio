{
  "cells": [
    {
      "cell_type": "markdown",
      "metadata": {
        "id": "view-in-github",
        "colab_type": "text"
      },
      "source": [
        "<a href=\"https://colab.research.google.com/github/Swemne/DiffSynth-Studio/blob/main/examples/Diffutoon/Diffutoon.ipynb\" target=\"_parent\"><img src=\"https://colab.research.google.com/assets/colab-badge.svg\" alt=\"Open In Colab\"/></a>"
      ]
    },
    {
      "cell_type": "markdown",
      "metadata": {
        "id": "8ObdI5jCB8xy"
      },
      "source": [
        "# DiffSynth Studio\n",
        "\n",
        "Welcome to DiffSynth Studio! This is an example of Diffutoon."
      ]
    },
    {
      "cell_type": "markdown",
      "metadata": {
        "id": "XSkKX7O2BwuM"
      },
      "source": [
        "## Install"
      ]
    },
    {
      "cell_type": "code",
      "execution_count": 1,
      "metadata": {
        "colab": {
          "base_uri": "https://localhost:8080/"
        },
        "id": "msCpt0pLnT8W",
        "outputId": "71b4f672-db39-4f97-c79b-b2c89bf9ab50"
      },
      "outputs": [
        {
          "output_type": "stream",
          "name": "stdout",
          "text": [
            "Cloning into 'DiffSynth-Studio'...\n",
            "remote: Enumerating objects: 5930, done.\u001b[K\n",
            "remote: Counting objects: 100% (1496/1496), done.\u001b[K\n",
            "remote: Compressing objects: 100% (396/396), done.\u001b[K\n",
            "remote: Total 5930 (delta 1267), reused 1143 (delta 1100), pack-reused 4434 (from 2)\u001b[K\n",
            "Receiving objects: 100% (5930/5930), 14.23 MiB | 13.43 MiB/s, done.\n",
            "Resolving deltas: 100% (3818/3818), done.\n",
            "\u001b[2K     \u001b[90m━━━━━━━━━━━━━━━━━━━━━━━━━━━━━━━━━━━━━━━\u001b[0m \u001b[32m202.4/202.4 kB\u001b[0m \u001b[31m7.3 MB/s\u001b[0m eta \u001b[36m0:00:00\u001b[0m\n",
            "\u001b[?25h  Preparing metadata (setup.py) ... \u001b[?25l\u001b[?25hdone\n",
            "\u001b[2K     \u001b[90m━━━━━━━━━━━━━━━━━━━━━━━━━━━━━━━━━━━━━━━━\u001b[0m \u001b[32m44.3/44.3 kB\u001b[0m \u001b[31m3.2 MB/s\u001b[0m eta \u001b[36m0:00:00\u001b[0m\n",
            "\u001b[2K   \u001b[90m━━━━━━━━━━━━━━━━━━━━━━━━━━━━━━━━━━━━━━━━\u001b[0m \u001b[32m9.9/9.9 MB\u001b[0m \u001b[31m85.2 MB/s\u001b[0m eta \u001b[36m0:00:00\u001b[0m\n",
            "\u001b[2K   \u001b[90m━━━━━━━━━━━━━━━━━━━━━━━━━━━━━━━━━━━━━━━━\u001b[0m \u001b[32m1.2/1.2 MB\u001b[0m \u001b[31m52.8 MB/s\u001b[0m eta \u001b[36m0:00:00\u001b[0m\n",
            "\u001b[2K   \u001b[90m━━━━━━━━━━━━━━━━━━━━━━━━━━━━━━━━━━━━━━━━\u001b[0m \u001b[32m6.9/6.9 MB\u001b[0m \u001b[31m90.8 MB/s\u001b[0m eta \u001b[36m0:00:00\u001b[0m\n",
            "\u001b[2K   \u001b[90m━━━━━━━━━━━━━━━━━━━━━━━━━━━━━━━━━━━━━━━━\u001b[0m \u001b[32m79.1/79.1 kB\u001b[0m \u001b[31m6.9 MB/s\u001b[0m eta \u001b[36m0:00:00\u001b[0m\n",
            "\u001b[2K   \u001b[90m━━━━━━━━━━━━━━━━━━━━━━━━━━━━━━━━━━━━━━━━\u001b[0m \u001b[32m363.4/363.4 MB\u001b[0m \u001b[31m2.7 MB/s\u001b[0m eta \u001b[36m0:00:00\u001b[0m\n",
            "\u001b[2K   \u001b[90m━━━━━━━━━━━━━━━━━━━━━━━━━━━━━━━━━━━━━━━━\u001b[0m \u001b[32m13.8/13.8 MB\u001b[0m \u001b[31m111.1 MB/s\u001b[0m eta \u001b[36m0:00:00\u001b[0m\n",
            "\u001b[2K   \u001b[90m━━━━━━━━━━━━━━━━━━━━━━━━━━━━━━━━━━━━━━━━\u001b[0m \u001b[32m24.6/24.6 MB\u001b[0m \u001b[31m85.4 MB/s\u001b[0m eta \u001b[36m0:00:00\u001b[0m\n",
            "\u001b[2K   \u001b[90m━━━━━━━━━━━━━━━━━━━━━━━━━━━━━━━━━━━━━━━━\u001b[0m \u001b[32m883.7/883.7 kB\u001b[0m \u001b[31m56.6 MB/s\u001b[0m eta \u001b[36m0:00:00\u001b[0m\n",
            "\u001b[2K   \u001b[90m━━━━━━━━━━━━━━━━━━━━━━━━━━━━━━━━━━━━━━━━\u001b[0m \u001b[32m664.8/664.8 MB\u001b[0m \u001b[31m2.8 MB/s\u001b[0m eta \u001b[36m0:00:00\u001b[0m\n",
            "\u001b[2K   \u001b[90m━━━━━━━━━━━━━━━━━━━━━━━━━━━━━━━━━━━━━━━━\u001b[0m \u001b[32m211.5/211.5 MB\u001b[0m \u001b[31m5.4 MB/s\u001b[0m eta \u001b[36m0:00:00\u001b[0m\n",
            "\u001b[2K   \u001b[90m━━━━━━━━━━━━━━━━━━━━━━━━━━━━━━━━━━━━━━━━\u001b[0m \u001b[32m56.3/56.3 MB\u001b[0m \u001b[31m16.4 MB/s\u001b[0m eta \u001b[36m0:00:00\u001b[0m\n",
            "\u001b[2K   \u001b[90m━━━━━━━━━━━━━━━━━━━━━━━━━━━━━━━━━━━━━━━━\u001b[0m \u001b[32m127.9/127.9 MB\u001b[0m \u001b[31m7.4 MB/s\u001b[0m eta \u001b[36m0:00:00\u001b[0m\n",
            "\u001b[2K   \u001b[90m━━━━━━━━━━━━━━━━━━━━━━━━━━━━━━━━━━━━━━━━\u001b[0m \u001b[32m207.5/207.5 MB\u001b[0m \u001b[31m5.9 MB/s\u001b[0m eta \u001b[36m0:00:00\u001b[0m\n",
            "\u001b[2K   \u001b[90m━━━━━━━━━━━━━━━━━━━━━━━━━━━━━━━━━━━━━━━━\u001b[0m \u001b[32m188.7/188.7 MB\u001b[0m \u001b[31m6.7 MB/s\u001b[0m eta \u001b[36m0:00:00\u001b[0m\n",
            "\u001b[2K   \u001b[90m━━━━━━━━━━━━━━━━━━━━━━━━━━━━━━━━━━━━━━━━\u001b[0m \u001b[32m21.1/21.1 MB\u001b[0m \u001b[31m82.6 MB/s\u001b[0m eta \u001b[36m0:00:00\u001b[0m\n",
            "\u001b[?25h  Building wheel for controlnet-aux (setup.py) ... \u001b[?25l\u001b[?25hdone\n",
            "/content/DiffSynth-Studio\n"
          ]
        }
      ],
      "source": [
        "!git clone https://github.com/Artiprocher/DiffSynth-Studio.git\n",
        "!pip install -q transformers controlnet-aux==0.0.7 streamlit streamlit-drawable-canvas imageio imageio[ffmpeg] safetensors einops cupy-cuda12x\n",
        "%cd /content/DiffSynth-Studio"
      ]
    },
    {
      "cell_type": "code",
      "source": [
        "!pip install modelscope\n",
        "!pip install ftfy"
      ],
      "metadata": {
        "id": "Fk5prRQlNkA6"
      },
      "execution_count": null,
      "outputs": []
    },
    {
      "cell_type": "markdown",
      "metadata": {
        "id": "5eCu_rlKB3kK"
      },
      "source": [
        "## Download Models"
      ]
    },
    {
      "cell_type": "code",
      "execution_count": 2,
      "metadata": {
        "id": "9znMkpVj3qZ1"
      },
      "outputs": [],
      "source": [
        "import requests\n",
        "\n",
        "\n",
        "def download_model(url, file_path):\n",
        "  model_file = requests.get(url, allow_redirects=True)\n",
        "  with open(file_path, \"wb\") as f:\n",
        "    f.write(model_file.content)\n",
        "\n",
        "download_model(\"https://civitai.com/api/download/models/229575\", \"models/stable_diffusion/aingdiffusion_v12.safetensors\")\n",
        "download_model(\"https://huggingface.co/guoyww/animatediff/resolve/main/mm_sd_v15_v2.ckpt\", \"models/AnimateDiff/mm_sd_v15_v2.ckpt\")\n",
        "download_model(\"https://huggingface.co/lllyasviel/ControlNet-v1-1/resolve/main/control_v11p_sd15_lineart.pth\", \"models/ControlNet/control_v11p_sd15_lineart.pth\")\n",
        "download_model(\"https://huggingface.co/lllyasviel/ControlNet-v1-1/resolve/main/control_v11f1e_sd15_tile.pth\", \"models/ControlNet/control_v11f1e_sd15_tile.pth\")\n",
        "download_model(\"https://huggingface.co/lllyasviel/ControlNet-v1-1/resolve/main/control_v11f1p_sd15_depth.pth\", \"models/ControlNet/control_v11f1p_sd15_depth.pth\")\n",
        "download_model(\"https://huggingface.co/lllyasviel/ControlNet-v1-1/resolve/main/control_v11p_sd15_softedge.pth\", \"models/ControlNet/control_v11p_sd15_softedge.pth\")\n",
        "download_model(\"https://huggingface.co/lllyasviel/Annotators/resolve/main/dpt_hybrid-midas-501f0c75.pt\", \"models/Annotators/dpt_hybrid-midas-501f0c75.pt\")\n",
        "download_model(\"https://huggingface.co/lllyasviel/Annotators/resolve/main/ControlNetHED.pth\", \"models/Annotators/ControlNetHED.pth\")\n",
        "download_model(\"https://huggingface.co/lllyasviel/Annotators/resolve/main/sk_model.pth\", \"models/Annotators/sk_model.pth\")\n",
        "download_model(\"https://huggingface.co/lllyasviel/Annotators/resolve/main/sk_model2.pth\", \"models/Annotators/sk_model2.pth\")\n",
        "download_model(\"https://civitai.com/api/download/models/25820?type=Model&format=PickleTensor&size=full&fp=fp16\", \"models/textual_inversion/verybadimagenegative_v1.3.pt\")"
      ]
    },
    {
      "cell_type": "markdown",
      "metadata": {
        "id": "iwOq2lWtKVYS"
      },
      "source": [
        "## Run Diffutoon"
      ]
    },
    {
      "cell_type": "markdown",
      "metadata": {
        "id": "tII_XRY-PJeo"
      },
      "source": [
        "### Config Template"
      ]
    },
    {
      "cell_type": "code",
      "execution_count": 5,
      "metadata": {
        "id": "vsd2alA3PrGe"
      },
      "outputs": [],
      "source": [
        "config_stage_1_template = {\n",
        "    \"models\": {\n",
        "        \"model_list\": [\n",
        "            \"models/stable_diffusion/aingdiffusion_v12.safetensors\",\n",
        "            \"models/ControlNet/control_v11p_sd15_softedge.pth\",\n",
        "            \"models/ControlNet/control_v11f1p_sd15_depth.pth\"\n",
        "        ],\n",
        "        \"textual_inversion_folder\": \"models/textual_inversion\",\n",
        "        \"device\": \"cuda\",\n",
        "        \"lora_alphas\": [],\n",
        "        \"controlnet_units\": [\n",
        "            {\n",
        "                \"processor_id\": \"softedge\",\n",
        "                \"model_path\": \"models/ControlNet/control_v11p_sd15_softedge.pth\",\n",
        "                \"scale\": 0.5\n",
        "            },\n",
        "            {\n",
        "                \"processor_id\": \"depth\",\n",
        "                \"model_path\": \"models/ControlNet/control_v11f1p_sd15_depth.pth\",\n",
        "                \"scale\": 0.5\n",
        "            }\n",
        "        ]\n",
        "    },\n",
        "    \"data\": {\n",
        "        \"input_frames\": {\n",
        "            \"video_file\": \"/content/input_video.mp4\",\n",
        "            \"image_folder\": None,\n",
        "            \"height\": 512,\n",
        "            \"width\": 512,\n",
        "            \"start_frame_id\": 0,\n",
        "            \"end_frame_id\": 30\n",
        "        },\n",
        "        \"controlnet_frames\": [\n",
        "            {\n",
        "                \"video_file\": \"/content/input_video.mp4\",\n",
        "                \"image_folder\": None,\n",
        "                \"height\": 512,\n",
        "                \"width\": 512,\n",
        "                \"start_frame_id\": 0,\n",
        "                \"end_frame_id\": 30\n",
        "            },\n",
        "            {\n",
        "                \"video_file\": \"/content/input_video.mp4\",\n",
        "                \"image_folder\": None,\n",
        "                \"height\": 512,\n",
        "                \"width\": 512,\n",
        "                \"start_frame_id\": 0,\n",
        "                \"end_frame_id\": 30\n",
        "            }\n",
        "        ],\n",
        "        \"output_folder\": \"data/examples/diffutoon_edit/color_video\",\n",
        "        \"fps\": 25\n",
        "    },\n",
        "    \"smoother_configs\": [\n",
        "        {\n",
        "            \"processor_type\": \"FastBlend\",\n",
        "            \"config\": {}\n",
        "        }\n",
        "    ],\n",
        "    \"pipeline\": {\n",
        "        \"seed\": 0,\n",
        "        \"pipeline_inputs\": {\n",
        "            \"prompt\": \"best quality, perfect anime illustration, orange clothes, night, a girl is dancing, smile, solo, black silk stockings\",\n",
        "            \"negative_prompt\": \"verybadimagenegative_v1.3\",\n",
        "            \"cfg_scale\": 7.0,\n",
        "            \"clip_skip\": 1,\n",
        "            \"denoising_strength\": 0.9,\n",
        "            \"num_inference_steps\": 20,\n",
        "            \"animatediff_batch_size\": 8,\n",
        "            \"animatediff_stride\": 4,\n",
        "            \"unet_batch_size\": 8,\n",
        "            \"controlnet_batch_size\": 8,\n",
        "            \"cross_frame_attention\": True,\n",
        "            \"smoother_progress_ids\": [-1],\n",
        "            # The following parameters will be overwritten. You don't need to modify them.\n",
        "            \"input_frames\": [],\n",
        "            \"num_frames\": 30,\n",
        "            \"width\": 512,\n",
        "            \"height\": 512,\n",
        "            \"controlnet_frames\": []\n",
        "        }\n",
        "    }\n",
        "}\n",
        "\n",
        "config_stage_2_template = {\n",
        "    \"models\": {\n",
        "        \"model_list\": [\n",
        "            \"models/stable_diffusion/aingdiffusion_v12.safetensors\",\n",
        "            \"models/AnimateDiff/mm_sd_v15_v2.ckpt\",\n",
        "            \"models/ControlNet/control_v11f1e_sd15_tile.pth\",\n",
        "            \"models/ControlNet/control_v11p_sd15_lineart.pth\"\n",
        "        ],\n",
        "        \"textual_inversion_folder\": \"models/textual_inversion\",\n",
        "        \"device\": \"cuda\",\n",
        "        \"lora_alphas\": [],\n",
        "        \"controlnet_units\": [\n",
        "            {\n",
        "                \"processor_id\": \"tile\",\n",
        "                \"model_path\": \"models/ControlNet/control_v11f1e_sd15_tile.pth\",\n",
        "                \"scale\": 0.5\n",
        "            },\n",
        "            {\n",
        "                \"processor_id\": \"lineart\",\n",
        "                \"model_path\": \"models/ControlNet/control_v11p_sd15_lineart.pth\",\n",
        "                \"scale\": 0.5\n",
        "            }\n",
        "        ]\n",
        "    },\n",
        "    \"data\": {\n",
        "        \"input_frames\": {\n",
        "            \"video_file\": \"/content/input_video.mp4\",\n",
        "            \"image_folder\": None,\n",
        "            \"height\": 1024,\n",
        "            \"width\": 1024,\n",
        "            \"start_frame_id\": 0,\n",
        "            \"end_frame_id\": 30\n",
        "        },\n",
        "        \"controlnet_frames\": [\n",
        "            {\n",
        "                \"video_file\": \"/content/input_video.mp4\",\n",
        "                \"image_folder\": None,\n",
        "                \"height\": 1024,\n",
        "                \"width\": 1024,\n",
        "                \"start_frame_id\": 0,\n",
        "                \"end_frame_id\": 30\n",
        "            },\n",
        "            {\n",
        "                \"video_file\": \"/content/input_video.mp4\",\n",
        "                \"image_folder\": None,\n",
        "                \"height\": 1024,\n",
        "                \"width\": 1024,\n",
        "                \"start_frame_id\": 0,\n",
        "                \"end_frame_id\": 30\n",
        "            }\n",
        "        ],\n",
        "        \"output_folder\": \"/content/output\",\n",
        "        \"fps\": 25\n",
        "    },\n",
        "    \"pipeline\": {\n",
        "        \"seed\": 0,\n",
        "        \"pipeline_inputs\": {\n",
        "            \"prompt\": \"best quality, perfect anime illustration, light, a girl is dancing, smile, solo\",\n",
        "            \"negative_prompt\": \"verybadimagenegative_v1.3\",\n",
        "            \"cfg_scale\": 7.0,\n",
        "            \"clip_skip\": 2,\n",
        "            \"denoising_strength\": 1.0,\n",
        "            \"num_inference_steps\": 10,\n",
        "            \"animatediff_batch_size\": 16,\n",
        "            \"animatediff_stride\": 8,\n",
        "            \"unet_batch_size\": 1,\n",
        "            \"controlnet_batch_size\": 1,\n",
        "            \"cross_frame_attention\": False,\n",
        "            # The following parameters will be overwritten. You don't need to modify them.\n",
        "            \"input_frames\": [],\n",
        "            \"num_frames\": 30,\n",
        "            \"width\": 1536,\n",
        "            \"height\": 1536,\n",
        "            \"controlnet_frames\": []\n",
        "        }\n",
        "    }\n",
        "}"
      ]
    },
    {
      "cell_type": "markdown",
      "metadata": {
        "id": "113QAmNHP6T_"
      },
      "source": [
        "### Upload Input Video\n",
        "\n",
        "Before you run the following code, please upload your input video to `/content/input_video.mp4`."
      ]
    },
    {
      "cell_type": "markdown",
      "metadata": {
        "id": "CyqAsj1o5U9B"
      },
      "source": [
        "### Toon Shading\n",
        "\n",
        "Render your video in an anime style.\n",
        "\n",
        "We highly recommend you to use a higher resolution for better visual quality. The default resolution of Diffutoon is 1536x1536, which requires 22GB VRAM. If you don't have enough VRAM, 1024x1024 is also acceptable.\n"
      ]
    },
    {
      "cell_type": "code",
      "execution_count": null,
      "metadata": {
        "colab": {
          "base_uri": "https://localhost:8080/"
        },
        "id": "761nbrgeKMvj",
        "outputId": "98181925-a24b-4442-a3e5-71941a532794"
      },
      "outputs": [
        {
          "output_type": "stream",
          "name": "stderr",
          "text": [
            "Exception ignored in: <function LowMemoryVideo.__del__ at 0x7b40b72c1da0>\n",
            "Traceback (most recent call last):\n",
            "  File \"/content/DiffSynth-Studio/diffsynth/data/video.py\", line 18, in __del__\n",
            "    self.reader.close()\n",
            "    ^^^^^^^^^^^\n",
            "AttributeError: 'LowMemoryVideo' object has no attribute 'reader'\n"
          ]
        },
        {
          "output_type": "stream",
          "name": "stdout",
          "text": [
            "Loading models from: models/stable_diffusion/aingdiffusion_v12.safetensors\n",
            "    model_name: sd_text_encoder model_class: SDTextEncoder\n",
            "    model_name: sd_unet model_class: SDUNet\n",
            "    model_name: sd_vae_decoder model_class: SDVAEDecoder\n",
            "    model_name: sd_vae_encoder model_class: SDVAEEncoder\n",
            "    The following models are loaded: ['sd_text_encoder', 'sd_unet', 'sd_vae_decoder', 'sd_vae_encoder'].\n",
            "Loading models from: models/AnimateDiff/mm_sd_v15_v2.ckpt\n",
            "    model_name: sd_motion_modules model_class: SDMotionModel\n",
            "    The following models are loaded: ['sd_motion_modules'].\n",
            "Loading models from: models/ControlNet/control_v11f1e_sd15_tile.pth\n",
            "    model_name: sd_controlnet model_class: SDControlNet\n",
            "    The following models are loaded: ['sd_controlnet'].\n",
            "Loading models from: models/ControlNet/control_v11p_sd15_lineart.pth\n",
            "    model_name: sd_controlnet model_class: SDControlNet\n",
            "    The following models are loaded: ['sd_controlnet'].\n",
            "Using sd_text_encoder from models/stable_diffusion/aingdiffusion_v12.safetensors.\n",
            "Using sd_unet from models/stable_diffusion/aingdiffusion_v12.safetensors.\n",
            "Using sd_vae_decoder from models/stable_diffusion/aingdiffusion_v12.safetensors.\n",
            "Using sd_vae_encoder from models/stable_diffusion/aingdiffusion_v12.safetensors.\n",
            "Using sd_controlnet from models/ControlNet/control_v11f1e_sd15_tile.pth.\n"
          ]
        },
        {
          "output_type": "stream",
          "name": "stderr",
          "text": [
            "/usr/local/lib/python3.11/dist-packages/controlnet_aux/mediapipe_face/mediapipe_face_common.py:7: UserWarning: The module 'mediapipe' is not installed. The package will have limited functionality. Please install it using the command: pip install 'mediapipe'\n",
            "  warnings.warn(\n",
            "/usr/local/lib/python3.11/dist-packages/timm/models/layers/__init__.py:48: FutureWarning: Importing from timm.models.layers is deprecated, please import via timm.layers\n",
            "  warnings.warn(f\"Importing from {__name__} is deprecated, please import via timm.layers\", FutureWarning)\n",
            "/usr/local/lib/python3.11/dist-packages/timm/models/registry.py:4: FutureWarning: Importing from timm.models.registry is deprecated, please import via timm.models\n",
            "  warnings.warn(f\"Importing from {__name__} is deprecated, please import via timm.models\", FutureWarning)\n",
            "/usr/local/lib/python3.11/dist-packages/controlnet_aux/segment_anything/modeling/tiny_vit_sam.py:654: UserWarning: Overwriting tiny_vit_5m_224 in registry with controlnet_aux.segment_anything.modeling.tiny_vit_sam.tiny_vit_5m_224. This is because the name being registered conflicts with an existing name. Please check if this is not expected.\n",
            "  return register_model(fn_wrapper)\n",
            "/usr/local/lib/python3.11/dist-packages/controlnet_aux/segment_anything/modeling/tiny_vit_sam.py:654: UserWarning: Overwriting tiny_vit_11m_224 in registry with controlnet_aux.segment_anything.modeling.tiny_vit_sam.tiny_vit_11m_224. This is because the name being registered conflicts with an existing name. Please check if this is not expected.\n",
            "  return register_model(fn_wrapper)\n",
            "/usr/local/lib/python3.11/dist-packages/controlnet_aux/segment_anything/modeling/tiny_vit_sam.py:654: UserWarning: Overwriting tiny_vit_21m_224 in registry with controlnet_aux.segment_anything.modeling.tiny_vit_sam.tiny_vit_21m_224. This is because the name being registered conflicts with an existing name. Please check if this is not expected.\n",
            "  return register_model(fn_wrapper)\n",
            "/usr/local/lib/python3.11/dist-packages/controlnet_aux/segment_anything/modeling/tiny_vit_sam.py:654: UserWarning: Overwriting tiny_vit_21m_384 in registry with controlnet_aux.segment_anything.modeling.tiny_vit_sam.tiny_vit_21m_384. This is because the name being registered conflicts with an existing name. Please check if this is not expected.\n",
            "  return register_model(fn_wrapper)\n",
            "/usr/local/lib/python3.11/dist-packages/controlnet_aux/segment_anything/modeling/tiny_vit_sam.py:654: UserWarning: Overwriting tiny_vit_21m_512 in registry with controlnet_aux.segment_anything.modeling.tiny_vit_sam.tiny_vit_21m_512. This is because the name being registered conflicts with an existing name. Please check if this is not expected.\n",
            "  return register_model(fn_wrapper)\n"
          ]
        },
        {
          "output_type": "stream",
          "name": "stdout",
          "text": [
            "Using sd_controlnet from models/ControlNet/control_v11p_sd15_lineart.pth.\n",
            "No sd_ipadapter models available.\n",
            "No sd_ipadapter_clip_image_encoder models available.\n",
            "Using sd_motion_modules from models/AnimateDiff/mm_sd_v15_v2.ckpt.\n",
            "Textual inversion verybadimagenegative_v1.3 is enabled.\n"
          ]
        },
        {
          "output_type": "stream",
          "name": "stderr",
          "text": [
            "100%|██████████| 30/30 [00:00<00:00, 81.12it/s]\n",
            "100%|██████████| 30/30 [00:08<00:00,  3.69it/s]\n",
            " 10%|█         | 1/10 [01:26<12:55, 86.16s/it]"
          ]
        }
      ],
      "source": [
        "from diffsynth import SDVideoPipelineRunner\n",
        "\n",
        "\n",
        "config = config_stage_2_template.copy()\n",
        "config[\"data\"][\"input_frames\"] = {\n",
        "    \"video_file\": \"/content/input_video.mp4\",\n",
        "    \"image_folder\": None,\n",
        "    \"height\": 1024,\n",
        "    \"width\": 1024,\n",
        "    \"start_frame_id\": 0,\n",
        "    \"end_frame_id\": 30\n",
        "}\n",
        "config[\"data\"][\"controlnet_frames\"] = [config[\"data\"][\"input_frames\"], config[\"data\"][\"input_frames\"]]\n",
        "config[\"data\"][\"output_folder\"] = \"/content/toon_video\"\n",
        "config[\"data\"][\"fps\"] = 25\n",
        "\n",
        "runner = SDVideoPipelineRunner()\n",
        "runner.run(config)"
      ]
    },
    {
      "cell_type": "markdown",
      "metadata": {
        "id": "9wujhGUmDIwY"
      },
      "source": [
        "Let's see the video!"
      ]
    },
    {
      "cell_type": "code",
      "execution_count": null,
      "metadata": {
        "id": "TBNAigacAq6h"
      },
      "outputs": [],
      "source": [
        "from IPython.display import HTML\n",
        "from base64 import b64encode\n",
        "\n",
        "mp4 = open(\"/content/toon_video/video.mp4\", \"rb\").read()\n",
        "data_url = \"data:video/mp4;base64,\" + b64encode(mp4).decode()\n",
        "HTML(\"\"\"\n",
        "<video width=400 controls>\n",
        "<source src=\"%s\" type=\"video/mp4\">\n",
        "</video>\n",
        "\"\"\" % data_url)"
      ]
    },
    {
      "cell_type": "markdown",
      "metadata": {
        "id": "48hQfX--5YGi"
      },
      "source": [
        "### Toon Shading with Editing Signals"
      ]
    },
    {
      "cell_type": "markdown",
      "metadata": {
        "id": "bAQ9Zq-3-MH6"
      },
      "source": [
        "In stage 1, input your prompt, and diffutoon will generate the editing signals in the format of low-resolution color video."
      ]
    },
    {
      "cell_type": "code",
      "execution_count": 7,
      "metadata": {
        "colab": {
          "base_uri": "https://localhost:8080/",
          "height": 550
        },
        "id": "BtDzYgIq5bgg",
        "outputId": "d2b4ad51-f5f2-408b-ae79-6a6c4351fdbc"
      },
      "outputs": [
        {
          "output_type": "error",
          "ename": "ModuleNotFoundError",
          "evalue": "No module named 'modelscope'",
          "traceback": [
            "\u001b[0;31m---------------------------------------------------------------------------\u001b[0m",
            "\u001b[0;31mModuleNotFoundError\u001b[0m                       Traceback (most recent call last)",
            "\u001b[0;32m/tmp/ipython-input-1694446868.py\u001b[0m in \u001b[0;36m<cell line: 0>\u001b[0;34m()\u001b[0m\n\u001b[0;32m----> 1\u001b[0;31m \u001b[0;32mfrom\u001b[0m \u001b[0mdiffsynth\u001b[0m \u001b[0;32mimport\u001b[0m \u001b[0mSDVideoPipelineRunner\u001b[0m\u001b[0;34m\u001b[0m\u001b[0;34m\u001b[0m\u001b[0m\n\u001b[0m\u001b[1;32m      2\u001b[0m \u001b[0;34m\u001b[0m\u001b[0m\n\u001b[1;32m      3\u001b[0m \u001b[0;34m\u001b[0m\u001b[0m\n\u001b[1;32m      4\u001b[0m \u001b[0mconfig_stage_1\u001b[0m \u001b[0;34m=\u001b[0m \u001b[0mconfig_stage_1_template\u001b[0m\u001b[0;34m.\u001b[0m\u001b[0mcopy\u001b[0m\u001b[0;34m(\u001b[0m\u001b[0;34m)\u001b[0m\u001b[0;34m\u001b[0m\u001b[0;34m\u001b[0m\u001b[0m\n\u001b[1;32m      5\u001b[0m config_stage_1[\"data\"][\"input_frames\"] = {\n",
            "\u001b[0;32m/content/DiffSynth-Studio/diffsynth/__init__.py\u001b[0m in \u001b[0;36m<module>\u001b[0;34m\u001b[0m\n\u001b[1;32m      1\u001b[0m \u001b[0;32mfrom\u001b[0m \u001b[0;34m.\u001b[0m\u001b[0mdata\u001b[0m \u001b[0;32mimport\u001b[0m \u001b[0;34m*\u001b[0m\u001b[0;34m\u001b[0m\u001b[0;34m\u001b[0m\u001b[0m\n\u001b[0;32m----> 2\u001b[0;31m \u001b[0;32mfrom\u001b[0m \u001b[0;34m.\u001b[0m\u001b[0mmodels\u001b[0m \u001b[0;32mimport\u001b[0m \u001b[0;34m*\u001b[0m\u001b[0;34m\u001b[0m\u001b[0;34m\u001b[0m\u001b[0m\n\u001b[0m\u001b[1;32m      3\u001b[0m \u001b[0;32mfrom\u001b[0m \u001b[0;34m.\u001b[0m\u001b[0mprompters\u001b[0m \u001b[0;32mimport\u001b[0m \u001b[0;34m*\u001b[0m\u001b[0;34m\u001b[0m\u001b[0;34m\u001b[0m\u001b[0m\n\u001b[1;32m      4\u001b[0m \u001b[0;32mfrom\u001b[0m \u001b[0;34m.\u001b[0m\u001b[0mschedulers\u001b[0m \u001b[0;32mimport\u001b[0m \u001b[0;34m*\u001b[0m\u001b[0;34m\u001b[0m\u001b[0;34m\u001b[0m\u001b[0m\n\u001b[1;32m      5\u001b[0m \u001b[0;32mfrom\u001b[0m \u001b[0;34m.\u001b[0m\u001b[0mpipelines\u001b[0m \u001b[0;32mimport\u001b[0m \u001b[0;34m*\u001b[0m\u001b[0;34m\u001b[0m\u001b[0;34m\u001b[0m\u001b[0m\n",
            "\u001b[0;32m/content/DiffSynth-Studio/diffsynth/models/__init__.py\u001b[0m in \u001b[0;36m<module>\u001b[0;34m\u001b[0m\n\u001b[0;32m----> 1\u001b[0;31m \u001b[0;32mfrom\u001b[0m \u001b[0;34m.\u001b[0m\u001b[0mmodel_manager\u001b[0m \u001b[0;32mimport\u001b[0m \u001b[0;34m*\u001b[0m\u001b[0;34m\u001b[0m\u001b[0;34m\u001b[0m\u001b[0m\n\u001b[0m",
            "\u001b[0;32m/content/DiffSynth-Studio/diffsynth/models/model_manager.py\u001b[0m in \u001b[0;36m<module>\u001b[0;34m\u001b[0m\n\u001b[1;32m      2\u001b[0m \u001b[0;32mfrom\u001b[0m \u001b[0mtyping\u001b[0m \u001b[0;32mimport\u001b[0m \u001b[0mList\u001b[0m\u001b[0;34m\u001b[0m\u001b[0;34m\u001b[0m\u001b[0m\n\u001b[1;32m      3\u001b[0m \u001b[0;34m\u001b[0m\u001b[0m\n\u001b[0;32m----> 4\u001b[0;31m \u001b[0;32mfrom\u001b[0m \u001b[0;34m.\u001b[0m\u001b[0mdownloader\u001b[0m \u001b[0;32mimport\u001b[0m \u001b[0mdownload_models\u001b[0m\u001b[0;34m,\u001b[0m \u001b[0mdownload_customized_models\u001b[0m\u001b[0;34m,\u001b[0m \u001b[0mPreset_model_id\u001b[0m\u001b[0;34m,\u001b[0m \u001b[0mPreset_model_website\u001b[0m\u001b[0;34m\u001b[0m\u001b[0;34m\u001b[0m\u001b[0m\n\u001b[0m\u001b[1;32m      5\u001b[0m \u001b[0;34m\u001b[0m\u001b[0m\n\u001b[1;32m      6\u001b[0m \u001b[0;32mfrom\u001b[0m \u001b[0;34m.\u001b[0m\u001b[0msd_text_encoder\u001b[0m \u001b[0;32mimport\u001b[0m \u001b[0mSDTextEncoder\u001b[0m\u001b[0;34m\u001b[0m\u001b[0;34m\u001b[0m\u001b[0m\n",
            "\u001b[0;32m/content/DiffSynth-Studio/diffsynth/models/downloader.py\u001b[0m in \u001b[0;36m<module>\u001b[0;34m\u001b[0m\n\u001b[1;32m      1\u001b[0m \u001b[0;32mfrom\u001b[0m \u001b[0mhuggingface_hub\u001b[0m \u001b[0;32mimport\u001b[0m \u001b[0mhf_hub_download\u001b[0m\u001b[0;34m\u001b[0m\u001b[0;34m\u001b[0m\u001b[0m\n\u001b[0;32m----> 2\u001b[0;31m \u001b[0;32mfrom\u001b[0m \u001b[0mmodelscope\u001b[0m \u001b[0;32mimport\u001b[0m \u001b[0msnapshot_download\u001b[0m\u001b[0;34m\u001b[0m\u001b[0;34m\u001b[0m\u001b[0m\n\u001b[0m\u001b[1;32m      3\u001b[0m \u001b[0;32mimport\u001b[0m \u001b[0mos\u001b[0m\u001b[0;34m,\u001b[0m \u001b[0mshutil\u001b[0m\u001b[0;34m\u001b[0m\u001b[0;34m\u001b[0m\u001b[0m\n\u001b[1;32m      4\u001b[0m \u001b[0;32mfrom\u001b[0m \u001b[0mtyping_extensions\u001b[0m \u001b[0;32mimport\u001b[0m \u001b[0mLiteral\u001b[0m\u001b[0;34m,\u001b[0m \u001b[0mTypeAlias\u001b[0m\u001b[0;34m\u001b[0m\u001b[0;34m\u001b[0m\u001b[0m\n\u001b[1;32m      5\u001b[0m \u001b[0;32mfrom\u001b[0m \u001b[0mtyping\u001b[0m \u001b[0;32mimport\u001b[0m \u001b[0mList\u001b[0m\u001b[0;34m\u001b[0m\u001b[0;34m\u001b[0m\u001b[0m\n",
            "\u001b[0;31mModuleNotFoundError\u001b[0m: No module named 'modelscope'",
            "",
            "\u001b[0;31m---------------------------------------------------------------------------\u001b[0;32m\nNOTE: If your import is failing due to a missing package, you can\nmanually install dependencies using either !pip or !apt.\n\nTo view examples of installing some common dependencies, click the\n\"Open Examples\" button below.\n\u001b[0;31m---------------------------------------------------------------------------\u001b[0m\n"
          ],
          "errorDetails": {
            "actions": [
              {
                "action": "open_url",
                "actionText": "Open Examples",
                "url": "/notebooks/snippets/importing_libraries.ipynb"
              }
            ]
          }
        }
      ],
      "source": [
        "from diffsynth import SDVideoPipelineRunner\n",
        "\n",
        "\n",
        "config_stage_1 = config_stage_1_template.copy()\n",
        "config_stage_1[\"data\"][\"input_frames\"] = {\n",
        "    \"video_file\": \"/content/input_video.mp4\",\n",
        "    \"image_folder\": None,\n",
        "    \"height\": 512,\n",
        "    \"width\": 512,\n",
        "    \"start_frame_id\": 0,\n",
        "    \"end_frame_id\": 30\n",
        "}\n",
        "config_stage_1[\"data\"][\"controlnet_frames\"] = [config_stage_1[\"data\"][\"input_frames\"], config_stage_1[\"data\"][\"input_frames\"]]\n",
        "config_stage_1[\"data\"][\"output_folder\"] = \"/content/color_video\"\n",
        "config_stage_1[\"data\"][\"fps\"] = 25\n",
        "config_stage_1[\"pipeline\"][\"pipeline_inputs\"][\"prompt\"] = \"best quality, perfect anime illustration, orange clothes, night, a girl is dancing, smile, solo, black silk stockings\"\n",
        "\n",
        "runner = SDVideoPipelineRunner()\n",
        "runner.run(config_stage_1)"
      ]
    },
    {
      "cell_type": "markdown",
      "metadata": {
        "id": "D9_AWwhi-pA9"
      },
      "source": [
        "In stage 2, diffutoon will rerender the whole video according to the editing signals."
      ]
    },
    {
      "cell_type": "code",
      "execution_count": null,
      "metadata": {
        "id": "JFysCk7y51i_"
      },
      "outputs": [],
      "source": [
        "from diffsynth import SDVideoPipelineRunner\n",
        "\n",
        "\n",
        "config_stage_2 = config_stage_2_template.copy()\n",
        "config_stage_2[\"data\"][\"input_frames\"] = {\n",
        "    \"video_file\": \"/content/input_video.mp4\",\n",
        "    \"image_folder\": None,\n",
        "    \"height\": 1024,\n",
        "    \"width\": 1024,\n",
        "    \"start_frame_id\": 0,\n",
        "    \"end_frame_id\": 30\n",
        "}\n",
        "config_stage_2[\"data\"][\"controlnet_frames\"][0] = {\n",
        "    \"video_file\": \"/content/color_video/video.mp4\",\n",
        "    \"image_folder\": None,\n",
        "    \"height\": config_stage_2[\"data\"][\"input_frames\"][\"height\"],\n",
        "    \"width\": config_stage_2[\"data\"][\"input_frames\"][\"width\"],\n",
        "    \"start_frame_id\": None,\n",
        "    \"end_frame_id\": None\n",
        "}\n",
        "config_stage_2[\"data\"][\"controlnet_frames\"][1] = config[\"data\"][\"input_frames\"]\n",
        "config_stage_2[\"data\"][\"output_folder\"] = \"/content/edit_video\"\n",
        "config_stage_2[\"data\"][\"fps\"] = 25\n",
        "\n",
        "runner = SDVideoPipelineRunner()\n",
        "runner.run(config)"
      ]
    },
    {
      "cell_type": "markdown",
      "metadata": {
        "id": "HIPrCAIS_Im0"
      },
      "source": [
        "Let's see the video!"
      ]
    },
    {
      "cell_type": "code",
      "execution_count": null,
      "metadata": {
        "id": "Y2nz7rew-7VI"
      },
      "outputs": [],
      "source": [
        "from IPython.display import HTML\n",
        "from base64 import b64encode\n",
        "\n",
        "mp4 = open(\"/content/edit_video/video.mp4\", \"rb\").read()\n",
        "data_url = \"data:video/mp4;base64,\" + b64encode(mp4).decode()\n",
        "HTML(\"\"\"\n",
        "<video width=400 controls>\n",
        "<source src=\"%s\" type=\"video/mp4\">\n",
        "</video>\n",
        "\"\"\" % data_url)"
      ]
    }
  ],
  "metadata": {
    "accelerator": "GPU",
    "colab": {
      "collapsed_sections": [
        "tII_XRY-PJeo"
      ],
      "gpuType": "T4",
      "provenance": [],
      "include_colab_link": true
    },
    "kernelspec": {
      "display_name": "Python 3",
      "name": "python3"
    },
    "language_info": {
      "name": "python"
    }
  },
  "nbformat": 4,
  "nbformat_minor": 0
}